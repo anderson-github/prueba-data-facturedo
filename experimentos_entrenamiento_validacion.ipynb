{
 "cells": [
  {
   "cell_type": "code",
   "execution_count": 53,
   "id": "604e1539-7a42-45c0-a940-404efbb92115",
   "metadata": {},
   "outputs": [],
   "source": [
    "# Librerias:\n",
    "import numpy as np\n",
    "import pandas as pd\n",
    "\n",
    "from sklearn.model_selection import KFold\n",
    "from sklearn.tree import DecisionTreeClassifier\n",
    "from sklearn.ensemble import RandomForestClassifier, GradientBoostingClassifier\n",
    "from sklearn.neighbors import KNeighborsClassifier\n",
    "from sklearn import metrics\n",
    "from sklearn.utils import resample\n",
    "from imblearn.over_sampling import SMOTE \n",
    "\n",
    "import matplotlib.pyplot as plt"
   ]
  },
  {
   "cell_type": "code",
   "execution_count": 54,
   "id": "b36cbe47-19cc-4ca9-b429-690d6615abb3",
   "metadata": {},
   "outputs": [],
   "source": [
    "# Método para el cálculo del índice Gini normalizado:\n",
    "def gini_normalized(y_actual, y_pred):\n",
    "    \"\"\"Simple normalized Gini based on Scikit-Learn's roc_auc_score\"\"\"\n",
    "    gini = lambda a, p: 2 * metrics.roc_auc_score(a, p) - 1\n",
    "    return gini(y_actual, y_pred) / gini(y_actual, y_actual)"
   ]
  },
  {
   "cell_type": "markdown",
   "id": "d4fede69-d78f-49c1-97e6-9946d8ba2669",
   "metadata": {},
   "source": [
    "### Datos de entrenamiento (train data):"
   ]
  },
  {
   "cell_type": "markdown",
   "id": "3e889620-3152-491b-a099-aa55eaae42e9",
   "metadata": {},
   "source": [
    "Cargando datos de entrenamiento:"
   ]
  },
  {
   "cell_type": "code",
   "execution_count": 55,
   "id": "c6109220-290a-4781-8021-069608f5df41",
   "metadata": {
    "collapsed": false,
    "jupyter": {
     "outputs_hidden": false
    },
    "pycharm": {
     "name": "#%%\n"
    }
   },
   "outputs": [],
   "source": [
    "train_df = pd.read_csv('./Datos/train.csv')\n",
    "train_df.rename(columns={'Unnamed: 0':'first_col'}, inplace=True)\n",
    "# train_df"
   ]
  },
  {
   "cell_type": "markdown",
   "id": "459b2ad0-12e1-411f-97b9-1b2311e224a1",
   "metadata": {},
   "source": [
    "Etiquetas del conjunto de entrenamiento (training labels):"
   ]
  },
  {
   "cell_type": "code",
   "execution_count": 56,
   "id": "2949507f-fdc3-4adb-81d7-856b17356567",
   "metadata": {
    "collapsed": false,
    "jupyter": {
     "outputs_hidden": false
    },
    "pycharm": {
     "name": "#%%\n"
    }
   },
   "outputs": [],
   "source": [
    "train_labels_df = pd.read_csv('./Datos/train_label.csv', header=None)\n",
    "train_labels_df.rename(columns={0:'train_labels'}, inplace=True)\n",
    "# train_labels_df"
   ]
  },
  {
   "cell_type": "markdown",
   "id": "a57aba39-f5a7-468f-acd3-fffe6a127845",
   "metadata": {},
   "source": [
    "**Relación entre las clases:** \\\n",
    "A continuación se calcula la relación entre las clases involucradas en este trabajo. De esta forma verificamos que tan desbalanceado se encuentran los grupos y así obtenemos indicios de cómo enfrentar el proceso de clasificación requerido."
   ]
  },
  {
   "cell_type": "code",
   "execution_count": 57,
   "id": "e70f4354-f54e-4f0d-bd58-a3078d882474",
   "metadata": {},
   "outputs": [
    {
     "name": "stdout",
     "output_type": "stream",
     "text": [
      "Total amount of classes = 2189\n",
      "Positive class elements = 429\n",
      "Negative class elements = 1760\n",
      "Class ratio: (0:1) --> (4.0:1.0)\n"
     ]
    }
   ],
   "source": [
    "pos_class = train_labels_df[train_labels_df['train_labels'] == 1].shape[0]\n",
    "neg_class = train_labels_df.shape[0] - pos_class\n",
    "\n",
    "print(f'Total amount of classes = {train_labels_df.shape[0]}')\n",
    "print(f'Positive class elements = {pos_class}')\n",
    "print(f'Negative class elements = {neg_class}')\n",
    "print(f'Class ratio: (0:1) --> ({np.round(neg_class/pos_class)}:{pos_class/pos_class})')"
   ]
  },
  {
   "cell_type": "markdown",
   "id": "16f22007-113a-4a2b-85d0-359b95b0bbd3",
   "metadata": {},
   "source": [
    "En este caso vemos que el conjunto de datos tiene una relación 4:1, es decir que por cada clase positiva hay cuatro clases negativas. De esta manera se comprueba el grado de desbalance de los datos."
   ]
  },
  {
   "cell_type": "markdown",
   "id": "811b6442-e051-43e9-bad7-38badcd36cdf",
   "metadata": {},
   "source": [
    "### Datos de validación (test data):"
   ]
  },
  {
   "cell_type": "code",
   "execution_count": 58,
   "id": "30adad62-e6da-4acc-aaed-cd3b0a9b59c3",
   "metadata": {},
   "outputs": [],
   "source": [
    "test_df = pd.read_csv('./Datos/test.csv')\n",
    "test_df.rename(columns={'Unnamed: 0':'first_col'}, inplace=True)\n",
    "# test_df"
   ]
  },
  {
   "cell_type": "markdown",
   "id": "2130f46c-0d56-4492-8032-2a7127b7ec2b",
   "metadata": {},
   "source": [
    "Cargando etiquetas de validación (Loading test labels):"
   ]
  },
  {
   "cell_type": "code",
   "execution_count": 59,
   "id": "9a768efb-873d-49be-8f67-07dac388ca55",
   "metadata": {},
   "outputs": [],
   "source": [
    "test_labels_df = pd.read_csv('./Datos/test_label.csv', header=None)\n",
    "test_labels_df.rename(columns={0:'test_labels'}, inplace=True)\n",
    "# test_labels_df"
   ]
  },
  {
   "cell_type": "markdown",
   "id": "1f05eb12-687e-4294-a48e-666b567ee5f9",
   "metadata": {},
   "source": [
    "## Entrenamiento y validación de modelos:"
   ]
  },
  {
   "cell_type": "markdown",
   "id": "176ecaad-44df-4c67-98a1-4d1bdde41492",
   "metadata": {
    "pycharm": {
     "name": "#%% md\n"
    }
   },
   "source": [
    "Debido a la naturaleza de los datos ofrecidos para este problema de clasificación, se ha decido realizar varios experimentos para probar diferentes hipótesis de trabajo. En la mayoría de los escenarios propuestos se trabajará con datos balanceados, así que como primera medida realizaremos el balanceo de datos a través del submuestreo de la clase minoritaria.\n",
    "A continuación se presenta cada experimento con su respectiva descripción y los resultados obtenidos."
   ]
  },
  {
   "cell_type": "code",
   "execution_count": 60,
   "id": "5ec73d9f-b0c1-49a1-882f-8574614fe676",
   "metadata": {},
   "outputs": [],
   "source": [
    "# Datos en formato numpy: \n",
    "train_data = train_df.values\n",
    "train_labels = train_labels_df.values"
   ]
  },
  {
   "cell_type": "markdown",
   "id": "46e1b93c-c4ee-4d54-b061-dfc983811a20",
   "metadata": {},
   "source": [
    "**Balanceo de datos para el conjunto de entrenamiento:**"
   ]
  },
  {
   "cell_type": "markdown",
   "id": "6aa1712f-ea65-4f4b-a310-b92b9375d27a",
   "metadata": {},
   "source": [
    "Para este procedimiento utilizamos el método de sobre-muestreo de la clase minoritaria (en inglés, Synthetic Minority Over-sampling Technique - SMOTE) con el fin de obtenier igual número de muestras para ambas clases de trabajo.\n",
    "Cómo se podrá observar, utilizamos el método SMOTE proveniente de la librería **imbalanced learn**. Es importante destacar que este método nos dió los mismos resultados que la función de sobre-muestreo que implementé; sin embargo, utilizo la librería en mención ya que tiene acople directo con scikit learn, pandas y todo el eco-sistema de python para análisis de datos."
   ]
  },
  {
   "cell_type": "code",
   "execution_count": 61,
   "id": "e3b055ae-78ba-472e-8494-0a163de42df8",
   "metadata": {},
   "outputs": [],
   "source": [
    "# Instanciamos el método SMOTE para realizar el sobre-muestreo:\n",
    "sm = SMOTE(random_state=0)"
   ]
  },
  {
   "cell_type": "code",
   "execution_count": 62,
   "id": "db46322e-d14d-4e10-ad10-45a9232b4c9a",
   "metadata": {},
   "outputs": [],
   "source": [
    "# Sobre-muestreo del conjunto de entrenamiento:\n",
    "train_data_res, train_labels_res = sm.fit_resample(train_data, train_labels)"
   ]
  },
  {
   "cell_type": "code",
   "execution_count": 63,
   "id": "b05f4553-35c5-40c7-a578-f57bf00c4ffb",
   "metadata": {},
   "outputs": [
    {
     "data": {
      "text/plain": [
       "(3520, 72)"
      ]
     },
     "execution_count": 63,
     "metadata": {},
     "output_type": "execute_result"
    }
   ],
   "source": [
    "# Corroborando el tamaño de los nuevos datos de entrenamiento:\n",
    "train_data_res.shape"
   ]
  },
  {
   "cell_type": "markdown",
   "id": "afd8cee6-2466-4086-aff1-d9a8329f6f70",
   "metadata": {},
   "source": [
    "En la celda anterior puede verse cómo el nuevo conjunto de entrenamiento es igual a dos veces el tamaño del conjunto originalmente compuesto por la clase mayoritaria (class = 0)."
   ]
  },
  {
   "cell_type": "code",
   "execution_count": 64,
   "id": "e5664a18-3e1f-403c-bbd4-799801cb8617",
   "metadata": {},
   "outputs": [
    {
     "name": "stdout",
     "output_type": "stream",
     "text": [
      "Training set label 0: 1760\n",
      "Training set label 1: 1760\n"
     ]
    }
   ],
   "source": [
    "# Verficando la distribución de las nuevas etiquetas: \n",
    "print(f'Training set label 0: {sum(train_labels_res == 0)}')\n",
    "print(f'Training set label 1: {sum(train_labels_res == 1)}')"
   ]
  },
  {
   "cell_type": "markdown",
   "id": "8560f7f1-7695-42f8-a830-ec5a809759f7",
   "metadata": {},
   "source": [
    "El resultado anterior muestra una balanceada distribución de las etiquetas de entrenamiento y por tanto podemos concluir que el proceso de sobre-muestreo ha sido exitoso."
   ]
  },
  {
   "cell_type": "markdown",
   "id": "ee22f245-bada-44ca-991a-b4d1830f5c1d",
   "metadata": {},
   "source": [
    "### Experimento 1:\n",
    "En este primer experimento se decidió utilizar un algoritmo básico de árboles de decisión entrenado con los datos balanceados. Para hacer más robusto el procedimiento de entrenamiento, se decidió utilizar validación cruzada por pliegues (K-Fold Cross Validation) para dar mayor aleatoridad en esta parte del proceso de aprendizaje.\n",
    "Finalmente se analiza el desempeño del algoritmo mediante la clasificación del conjunto de validación (test) y los índices propuestos en la prueba (f1-score y Gini)."
   ]
  },
  {
   "cell_type": "markdown",
   "id": "041edd74-bd3a-446f-844b-ab9ecaea6965",
   "metadata": {},
   "source": [
    "**Entrenamiento:**"
   ]
  },
  {
   "cell_type": "code",
   "execution_count": 65,
   "id": "bdd27008-be2f-4b68-a6d0-2fe113390534",
   "metadata": {},
   "outputs": [],
   "source": [
    "# Modelo de clasificación\n",
    "tree_clf = DecisionTreeClassifier()"
   ]
  },
  {
   "cell_type": "code",
   "execution_count": 66,
   "id": "1b55c424-6798-439d-995a-dde518d78dac",
   "metadata": {},
   "outputs": [
    {
     "name": "stdout",
     "output_type": "stream",
     "text": [
      "Average f1 score = 0.921111652474172\n",
      "Average Gini score = 0.8420129161762272\n"
     ]
    }
   ],
   "source": [
    "# Usand K-fold para aumentar aleatoriedad durante el entrenamiento:\n",
    "kf = KFold(n_splits=10, shuffle=True, random_state=1)\n",
    "\n",
    "i = 1\n",
    "f1 = np.zeros(10)\n",
    "gini = np.zeros(10)\n",
    "for train_index, test_index in kf.split(train_data_res, train_labels_res):\n",
    "    X_train = train_data_res[train_index]\n",
    "    y_train = train_labels_res[train_index]\n",
    "    \n",
    "    X_test = train_data_res[test_index]\n",
    "    y_test = train_labels_res[test_index]\n",
    "    \n",
    "    tree_clf.fit(X_train, y_train)\n",
    "    y_pred = tree_clf.predict(X_test)\n",
    "    \n",
    "    # Training Metrics: f1-score and Gini\n",
    "    # print(f'k-fold = {i}')\n",
    "    f1[i-1] = metrics.f1_score(y_test, y_pred)\n",
    "    gini[i-1] = gini_normalized(y_test, y_pred)\n",
    "    # print(f'f1-score = {f1[i-1]}')\n",
    "    # print(f'Gini score = {gini[i-1]}')\n",
    "    # print('\\n')\n",
    "        \n",
    "    i+=1\n",
    "\n",
    "print(f'Average f1 score = {f1.mean()}')\n",
    "print(f'Average Gini score = {gini.mean()}')"
   ]
  },
  {
   "cell_type": "markdown",
   "id": "fa0c4698-1bcc-434e-8585-363e8f4b2f8c",
   "metadata": {},
   "source": [
    "**Peso de las variables consideradas por el algoritmo de clasificación:**"
   ]
  },
  {
   "cell_type": "code",
   "execution_count": 67,
   "id": "bbec2025-1ae2-4502-8417-0e1fa84d9a2e",
   "metadata": {},
   "outputs": [
    {
     "data": {
      "image/png": "[encoded data removed]",
      "text/plain": [
       "<Figure size 576x432 with 1 Axes>"
      ]
     },
     "metadata": {
      "needs_background": "light"
     },
     "output_type": "display_data"
    }
   ],
   "source": [
    "importance = tree_clf.feature_importances_\n",
    "\n",
    "# Resumen de la importancia de las variables de entrenamiento:\n",
    "# for i,v in enumerate(importance):\n",
    "#     print('Feature: %0d, Score: %.5f' % (i,v))\n",
    "    \n",
    "# plot feature importance\n",
    "plt.figure(figsize=(8, 6))\n",
    "plt.bar([x for x in range(len(importance))], importance)\n",
    "plt.title('Decision tree clasifier features importance')\n",
    "plt.ylabel(\"Score\")\n",
    "plt.xlabel(\"Features\")\n",
    "plt.show()"
   ]
  },
  {
   "cell_type": "markdown",
   "id": "aa4825b9-a22b-4e8f-99d4-9e5d5df9e1a4",
   "metadata": {},
   "source": [
    "**Validación:**"
   ]
  },
  {
   "cell_type": "code",
   "execution_count": 68,
   "id": "f42f1ae0-14b6-44ea-a2a6-4b400c395620",
   "metadata": {},
   "outputs": [],
   "source": [
    "# Predicciones usando el algoritmo entrenado:\n",
    "tree_pred = tree_clf.predict(test_df.values)"
   ]
  },
  {
   "cell_type": "code",
   "execution_count": 69,
   "id": "f90c4a56-3c33-4e03-9662-50d7626fb080",
   "metadata": {},
   "outputs": [
    {
     "name": "stdout",
     "output_type": "stream",
     "text": [
      "Decision tree calssifier metrics for validation stage:\n",
      "f1-score = 0.7148936170212766\n",
      "Gini score = 0.680050505050505\n"
     ]
    }
   ],
   "source": [
    "pred_f1_score = metrics.f1_score(test_labels_df.values, tree_pred)\n",
    "pred_gini_score = gini_normalized(test_labels_df.values, tree_pred)\n",
    "\n",
    "print('Decision tree calssifier metrics for validation stage:')\n",
    "print(f'f1-score = {pred_f1_score}')\n",
    "print(f'Gini score = {pred_gini_score}')"
   ]
  },
  {
   "cell_type": "markdown",
   "id": "def38c50-cfbd-41a8-91ce-6e77842cb741",
   "metadata": {},
   "source": [
    "NOTA: Se puede ver que el método se sobre entrenó y no tiene un buen desempeño al ser puesto a prueba con datos que no conoce."
   ]
  },
  {
   "cell_type": "markdown",
   "id": "f296505a-7c87-4144-b053-4e3a178e480e",
   "metadata": {},
   "source": [
    "### Experimento 2:\n",
    "En este caso usamos un método mucho más robusto, conocido como clasificador de bosques aleatorios (Random Forest Classifier). En este caso el experimento consiste en usar los datos originales (no-balanceados), entrenar sin validación cruzada y analizar el desempeño del clasificador.\n",
    "Este procedimiento servirá como base para comparar futuras pruebas que invlucran el mismo algoritmo pero datos balanceados."
   ]
  },
  {
   "cell_type": "markdown",
   "id": "dcab3588-471c-40d8-8731-1c4155191865",
   "metadata": {},
   "source": [
    "**Entrenamiento:**"
   ]
  },
  {
   "cell_type": "code",
   "execution_count": 70,
   "id": "28eacde2-abd3-42ac-aa84-b2b7c6216b82",
   "metadata": {},
   "outputs": [],
   "source": [
    "# Instancia del modelo y entrenamiento con datos no-balanceados:\n",
    "rfc = RandomForestClassifier(random_state=2).fit(train_data, train_labels.ravel())"
   ]
  },
  {
   "cell_type": "markdown",
   "id": "74de3fe2-c16e-45a7-8a5b-778a1bafd59a",
   "metadata": {},
   "source": [
    "Performance con los datos de entrenamiento:"
   ]
  },
  {
   "cell_type": "code",
   "execution_count": 71,
   "id": "e0fd6d53-b341-4523-9cd4-316ac3c41be9",
   "metadata": {},
   "outputs": [
    {
     "data": {
      "text/plain": [
       "(1.0, 1.0)"
      ]
     },
     "execution_count": 71,
     "metadata": {},
     "output_type": "execute_result"
    }
   ],
   "source": [
    "train_predicts = rfc.predict(train_data)\n",
    "metrics.f1_score(train_labels, train_predicts), gini_normalized(train_labels, train_predicts)"
   ]
  },
  {
   "cell_type": "markdown",
   "id": "06939989-8a50-49bd-bb30-fc560b67249e",
   "metadata": {},
   "source": [
    "**Peso de las variables consideradas por el algoritmo de clasificación durante el entrenamiento:**"
   ]
  },
  {
   "cell_type": "code",
   "execution_count": 72,
   "id": "386130f5-78a6-4b02-935d-99f04bcc592c",
   "metadata": {},
   "outputs": [
    {
     "data": {
      "image/png": "[encoded data removed]",
      "text/plain": [
       "<Figure size 576x432 with 1 Axes>"
      ]
     },
     "metadata": {
      "needs_background": "light"
     },
     "output_type": "display_data"
    }
   ],
   "source": [
    "importance = rfc.feature_importances_\n",
    "\n",
    "# Resumen de la importancia de las variables de entrenamiento:\n",
    "# for i,v in enumerate(importance):\n",
    "#     print('Feature: %0d, Score: %.5f' % (i,v))\n",
    "    \n",
    "# plot feature importance\n",
    "plt.figure(figsize=(8, 6))\n",
    "plt.bar([x for x in range(len(importance))], importance)\n",
    "plt.title('Features importance: Random Forest Classifier with unbalanced data', fontsize=14)\n",
    "plt.ylabel(\"Score\", fontsize=14)\n",
    "plt.xlabel(\"Features\", fontsize=14)\n",
    "plt.show()"
   ]
  },
  {
   "cell_type": "markdown",
   "id": "974a6af3-3946-4e40-82be-c1fbcbfe141e",
   "metadata": {},
   "source": [
    "**Validación:**"
   ]
  },
  {
   "cell_type": "code",
   "execution_count": 73,
   "id": "a290422d-f991-48b1-a444-f7dd88d31b78",
   "metadata": {},
   "outputs": [],
   "source": [
    "# Predicciones usando el modelo entrenado:\n",
    "rfc_predictions = rfc.predict(test_df.values)"
   ]
  },
  {
   "cell_type": "code",
   "execution_count": 74,
   "id": "91076aac-7ad2-439b-8e77-bf618b5d5b10",
   "metadata": {},
   "outputs": [
    {
     "name": "stdout",
     "output_type": "stream",
     "text": [
      "Random Forest Classifier metrics for validation stage:\n",
      "f1-score = 0.7596153846153846\n",
      "Gini score = 0.6837542087542086\n"
     ]
    }
   ],
   "source": [
    "pred_f1_score = metrics.f1_score(test_labels_df.values, rfc_predictions)\n",
    "pred_gini_score = gini_normalized(test_labels_df.values, rfc_predictions)\n",
    "\n",
    "print('Random Forest Classifier metrics for validation stage:')\n",
    "print(f'f1-score = {pred_f1_score}')\n",
    "print(f'Gini score = {pred_gini_score}')"
   ]
  },
  {
   "cell_type": "markdown",
   "id": "e326ae14-7872-489b-a3ff-c3617e337ed3",
   "metadata": {},
   "source": [
    "NOTA: Mejor desempeño que el obtenido en el experimento 1. Sin embargo, no se puede determinar que sea la mejor clasificación al problema tratado."
   ]
  },
  {
   "cell_type": "markdown",
   "id": "da437c71-54e4-4a33-859e-27be94060468",
   "metadata": {},
   "source": [
    "### Experimento 3:\n",
    "Clasificador de bosques aleatorios (Random Forest Classifier) entrenado con datos balanceados obtenidos usando el método SMOTE. En este caso el experimento consiste en usar los datos balanceados, entrenar sin validación cruzada y analizar el desempeño del clasificador."
   ]
  },
  {
   "cell_type": "markdown",
   "id": "636fd1c1-f056-4f0a-b2e5-02493e3ac65f",
   "metadata": {},
   "source": [
    "**Entrenamiento:**"
   ]
  },
  {
   "cell_type": "code",
   "execution_count": 75,
   "id": "16ce7f3a-d698-4667-960a-90cd335d2654",
   "metadata": {},
   "outputs": [],
   "source": [
    "# Instancia del modelo y entrenamiento con datos balanceados:\n",
    "rfc1 = RandomForestClassifier(random_state=3).fit(train_data_res, train_labels_res)"
   ]
  },
  {
   "cell_type": "markdown",
   "id": "a9038cca-72f1-41a9-8c8a-790fb565330e",
   "metadata": {},
   "source": [
    "Performance con los datos de entrenamiento:"
   ]
  },
  {
   "cell_type": "code",
   "execution_count": 76,
   "id": "501f1602-2378-4717-8fee-6bc886f0ed78",
   "metadata": {},
   "outputs": [
    {
     "data": {
      "text/plain": [
       "(1.0, 1.0)"
      ]
     },
     "execution_count": 76,
     "metadata": {},
     "output_type": "execute_result"
    }
   ],
   "source": [
    "train_predicts = rfc1.predict(train_data_res)\n",
    "metrics.f1_score(train_labels_res, train_predicts), gini_normalized(train_labels_res, train_predicts)"
   ]
  },
  {
   "cell_type": "markdown",
   "id": "c2862ca4-1fb0-4de2-9fbc-779c347497d4",
   "metadata": {},
   "source": [
    "**Peso de las variables consideradas por el algoritmo de clasificación durante el entrenamiento:**"
   ]
  },
  {
   "cell_type": "code",
   "execution_count": 77,
   "id": "4e5bd893-0a72-474c-826e-46cf705dcc21",
   "metadata": {},
   "outputs": [
    {
     "data": {
      "image/png": "[encoded data removed]",
      "text/plain": [
       "<Figure size 576x432 with 1 Axes>"
      ]
     },
     "metadata": {
      "needs_background": "light"
     },
     "output_type": "display_data"
    }
   ],
   "source": [
    "importance = rfc1.feature_importances_\n",
    "\n",
    "# Resumen de la importancia de las variables de entrenamiento:\n",
    "# for i,v in enumerate(importance):\n",
    "#     print('Feature: %0d, Score: %.5f' % (i,v))\n",
    "    \n",
    "# plot feature importance\n",
    "plt.figure(figsize=(8, 6))\n",
    "plt.bar([x for x in range(len(importance))], importance)\n",
    "plt.title('Features importance: Random Forest Classifier with balanced data', fontsize=14)\n",
    "plt.ylabel(\"Score\", fontsize=14)\n",
    "plt.xlabel(\"Features\", fontsize=14)\n",
    "plt.show()"
   ]
  },
  {
   "cell_type": "markdown",
   "id": "dabf88a7-2169-42c7-9a0c-922a746bb12c",
   "metadata": {},
   "source": [
    "**Validación:**"
   ]
  },
  {
   "cell_type": "code",
   "execution_count": 78,
   "id": "e5e3b2b5-cda8-40ca-a313-e482da5f4ee7",
   "metadata": {},
   "outputs": [],
   "source": [
    "# Predicciones usando el modelo entrenado:\n",
    "rfc1_predictions = rfc1.predict(test_df.values)"
   ]
  },
  {
   "cell_type": "code",
   "execution_count": 79,
   "id": "128c897f-b2d9-435e-b5ba-379807177efa",
   "metadata": {},
   "outputs": [
    {
     "name": "stdout",
     "output_type": "stream",
     "text": [
      "Random Forest Classifier metrics for validation stage:\n",
      "f1-score = 0.7671232876712328\n",
      "Gini score = 0.7164141414141412\n"
     ]
    }
   ],
   "source": [
    "pred_f1_score = metrics.f1_score(test_labels_df.values, rfc1_predictions)\n",
    "pred_gini_score = gini_normalized(test_labels_df.values, rfc1_predictions)\n",
    "\n",
    "print('Random Forest Classifier metrics for validation stage:')\n",
    "print(f'f1-score = {pred_f1_score}')\n",
    "print(f'Gini score = {pred_gini_score}')"
   ]
  },
  {
   "cell_type": "markdown",
   "id": "dda2161a-3248-4576-807e-04a6c8a6b8b1",
   "metadata": {},
   "source": [
    "NOTA: Mejor desempeño que el obtenido en el experimento 2, donde se usaron los datos no-balanceados. Sin embargo, parece que el balanceo del conjunto de datos no genera fuerte influencia sobre el entrenamiento del método usado."
   ]
  },
  {
   "cell_type": "markdown",
   "id": "d172abc9-7210-47de-bd06-e03cfd53f30a",
   "metadata": {},
   "source": [
    "### Experimento 4:\n",
    "En este caso usamos un algoritmo mucho más robusto, basado en árboles de decisión y conocido como **Gradient Boosting Classifier**. No usamos validación cruzada y el objetivo es trabajar con los datos balanceados para mejorar las predicciones a realizar."
   ]
  },
  {
   "cell_type": "markdown",
   "id": "b970afe8-2edc-4b8b-9aa8-44b11bee5586",
   "metadata": {},
   "source": [
    "**Entrenamiento:**"
   ]
  },
  {
   "cell_type": "code",
   "execution_count": 80,
   "id": "c7073b9a-3d02-40a4-8c99-3ebc01cec8f0",
   "metadata": {},
   "outputs": [],
   "source": [
    "# Generando el modelo y entrenando con datos desbalanceados:\n",
    "gbc_clf = GradientBoostingClassifier(n_estimators=100).fit(train_data_res, train_labels_res)"
   ]
  },
  {
   "cell_type": "markdown",
   "id": "4454c957-5d10-4f0e-9e58-181153526f75",
   "metadata": {},
   "source": [
    "Performance con los datos de entrenamiento:"
   ]
  },
  {
   "cell_type": "code",
   "execution_count": 81,
   "id": "8431e6c3-10f6-4a9c-9a40-87f5d242c4ac",
   "metadata": {},
   "outputs": [
    {
     "data": {
      "text/plain": [
       "(1.0, 1.0)"
      ]
     },
     "execution_count": 81,
     "metadata": {},
     "output_type": "execute_result"
    }
   ],
   "source": [
    "train_predicts = rfc1.predict(train_data_res)\n",
    "metrics.f1_score(train_labels_res, train_predicts), gini_normalized(train_labels_res, train_predicts)"
   ]
  },
  {
   "cell_type": "markdown",
   "id": "690b87c4-1a8d-4f70-9b1c-671006ec0492",
   "metadata": {},
   "source": [
    "**Peso de las variables consideradas por el algoritmo de clasificación durante el entrenamiento:**"
   ]
  },
  {
   "cell_type": "code",
   "execution_count": 82,
   "id": "15afec4b-759f-4d0f-a492-68c000474f7e",
   "metadata": {},
   "outputs": [
    {
     "data": {
      "image/png": "[encoded data removed]",
      "text/plain": [
       "<Figure size 576x432 with 1 Axes>"
      ]
     },
     "metadata": {
      "needs_background": "light"
     },
     "output_type": "display_data"
    }
   ],
   "source": [
    "importance = gbc_clf.feature_importances_\n",
    "\n",
    "# Resumen de la importancia de las variables de entrenamiento:\n",
    "# for i,v in enumerate(importance):\n",
    "#     print('Feature: %0d, Score: %.5f' % (i,v))\n",
    "    \n",
    "# plot feature importance\n",
    "plt.figure(figsize=(8, 6))\n",
    "plt.bar([x for x in range(len(importance))], importance)\n",
    "plt.title('Features importance: Gradient Boosting Classifier with balanced data', fontsize=14)\n",
    "plt.ylabel(\"Score\", fontsize=14)\n",
    "plt.xlabel(\"Features\", fontsize=14)\n",
    "plt.show()"
   ]
  },
  {
   "cell_type": "code",
   "execution_count": 83,
   "id": "47dfae13-c150-497b-9308-9f4743eaeab2",
   "metadata": {},
   "outputs": [],
   "source": [
    "# print('Feature importances')\n",
    "# importance[importance > 0.04]"
   ]
  },
  {
   "cell_type": "markdown",
   "id": "250b3882-ceb6-4998-8644-4ebbf0a2423a",
   "metadata": {},
   "source": [
    "**Validación:**"
   ]
  },
  {
   "cell_type": "code",
   "execution_count": 84,
   "id": "c6fd055a-0ae2-482d-9c1a-a80677b0e0e1",
   "metadata": {},
   "outputs": [],
   "source": [
    "# Predicciones usando el modelo entrenado:\n",
    "gbc_predictions = gbc_clf.predict(test_df.values)"
   ]
  },
  {
   "cell_type": "code",
   "execution_count": 85,
   "id": "5ed71b8e-a9c7-4d11-8a48-8e738f885bb2",
   "metadata": {},
   "outputs": [
    {
     "name": "stdout",
     "output_type": "stream",
     "text": [
      "Gradient Boosting Classifier metrics for validation stage:\n",
      "f1-score = 0.7705627705627707\n",
      "Gini score = 0.7468013468013466\n"
     ]
    }
   ],
   "source": [
    "pred_f1_score = metrics.f1_score(test_labels_df.values, gbc_predictions)\n",
    "pred_gini_score = gini_normalized(test_labels_df.values, gbc_predictions)\n",
    "\n",
    "print('Gradient Boosting Classifier metrics for validation stage:')\n",
    "print(f'f1-score = {pred_f1_score}')\n",
    "print(f'Gini score = {pred_gini_score}')"
   ]
  },
  {
   "cell_type": "markdown",
   "id": "2894a163-3adf-4a29-9fcd-758ea11517dd",
   "metadata": {},
   "source": [
    "NOTA: Mejora en la clasificación de las clases, pero se sigue presentando sobre ajuste en el entrenamiento del modelo. Empiezo a pensar que las variables características (features) usadas aportan información redundante a los modelos."
   ]
  },
  {
   "cell_type": "markdown",
   "id": "af91002b-527b-4c12-a9df-6ff2a4c610d1",
   "metadata": {
    "jupyter": {
     "outputs_hidden": false
    },
    "pycharm": {
     "name": "#%%\n"
    }
   },
   "source": [
    "### Experimento 5:\n",
    "Teniendo en cuenta el desempeño de los algorítmos basados en árboles de decisión utilizados en los anteriores experimentos, se decidió utilizar en esta prueba un método de clasificación diferente. Esto se hace con el fin de observar la influencia de los datos en otros entornos de trabajo y determinar si aportan o no información redundante en el entrenamiento de los distintos métodos usados.\n",
    "Pra este caso hemos decidido utilizar un clasificador de primeros vecinos (K-Nearest Neighbors Classifier), con datos de entrenamiento balanceados y validación cruzada (k-fold cv)."
   ]
  },
  {
   "cell_type": "markdown",
   "id": "c397279a-ce34-4bc3-8d27-20e34f22494f",
   "metadata": {},
   "source": [
    "Cómo primera medida debemos normalizar los datos, puesto que este método se basa en distancia y la presencia de grandes variaciones en el rango de las variables características (features) pueden afectar su desempeño."
   ]
  },
  {
   "cell_type": "code",
   "execution_count": 86,
   "id": "5597f787-ecd2-4001-8b02-9e20e31d0c0c",
   "metadata": {},
   "outputs": [],
   "source": [
    "# Normalización de datos para entrenamiento y test:\n",
    "from sklearn.preprocessing import MinMaxScaler\n",
    "\n",
    "scaler = MinMaxScaler() # Instancia del objeto scaler\n",
    "\n",
    "# Escalamiento de los datos\n",
    "df_norm_train = pd.DataFrame(scaler.fit_transform(train_data_res), columns=train_df.columns)\n",
    "df_norm_test = pd.DataFrame(scaler.fit_transform(test_df), columns=test_df.columns)\n",
    "\n",
    "# df_norm_train"
   ]
  },
  {
   "cell_type": "markdown",
   "id": "2c20ef1c-8d38-4a9e-bcc6-ebf3e432fc2f",
   "metadata": {},
   "source": [
    "**Entrenamiento:**"
   ]
  },
  {
   "cell_type": "code",
   "execution_count": 87,
   "id": "6476925d-9eaf-4410-9ef9-db028d8eff2f",
   "metadata": {},
   "outputs": [],
   "source": [
    "# Genearción del modelo de clasificación:\n",
    "knn = KNeighborsClassifier(n_neighbors=5)"
   ]
  },
  {
   "cell_type": "code",
   "execution_count": 88,
   "id": "bfd41d13-c2fa-41d7-bbe4-1520013e36e5",
   "metadata": {},
   "outputs": [
    {
     "name": "stdout",
     "output_type": "stream",
     "text": [
      "Average f1 score = 0.9157021506743398\n",
      "Average Gini score = 0.8246330969065777\n"
     ]
    }
   ],
   "source": [
    "# Datos a formato ndarray:\n",
    "# train_data = train_df.values\n",
    "train_data = df_norm_train.values\n",
    "train_labels = train_labels_res\n",
    "\n",
    "# K-fold:\n",
    "knn_kf = KFold(n_splits=10, shuffle=True, random_state=10)\n",
    "\n",
    "i = 1\n",
    "f1 = np.zeros(10)\n",
    "gini = np.zeros(10)\n",
    "for train_index, test_index in knn_kf.split(train_data, train_labels):\n",
    "    X_train = train_data[train_index]\n",
    "    y_train = train_labels[train_index]\n",
    "    \n",
    "    X_test = train_data[test_index]\n",
    "    y_test = train_labels[test_index]\n",
    "    \n",
    "    knn.fit(X_train, y_train.ravel())\n",
    "    y_pred = knn.predict(X_test)\n",
    "    \n",
    "    # Training Metrics: f1-score and Gini\n",
    "    # print(f'k-fold = {i}')\n",
    "    f1[i-1] = metrics.f1_score(y_test, y_pred)\n",
    "    gini[i-1] = gini_normalized(y_test, y_pred)\n",
    "    # print(f'f1-score = {f1[i-1]}')\n",
    "    # print(f'Gini score = {gini[i-1]}')\n",
    "    # print('\\n')\n",
    "        \n",
    "    i+=1\n",
    "\n",
    "print(f'Average f1 score = {f1.mean()}')\n",
    "print(f'Average Gini score = {gini.mean()}')"
   ]
  },
  {
   "cell_type": "markdown",
   "id": "b6608974-939e-41f2-9f5f-c1e01c922210",
   "metadata": {},
   "source": [
    "**Validación:**"
   ]
  },
  {
   "cell_type": "code",
   "execution_count": 89,
   "id": "7aecf6a1-087b-4bab-b117-f1601653c767",
   "metadata": {},
   "outputs": [],
   "source": [
    "# Making predictions:\n",
    "# knn_predictions = knn.predict(test_df.values)\n",
    "knn_predictions = knn.predict(df_norm_test.values)"
   ]
  },
  {
   "cell_type": "code",
   "execution_count": 90,
   "id": "7249304a-1bbe-4333-95e3-ba5dcde3e508",
   "metadata": {},
   "outputs": [
    {
     "name": "stdout",
     "output_type": "stream",
     "text": [
      "K-NN metrics for validation stage:\n",
      "f1-score = 0.6940298507462688\n",
      "Gini score = 0.7088383838383838\n"
     ]
    }
   ],
   "source": [
    "pred_f1_score = metrics.f1_score(test_labels_df.values, knn_predictions)\n",
    "pred_gini_score = gini_normalized(test_labels_df.values, knn_predictions)\n",
    "\n",
    "print('K-NN metrics for validation stage:')\n",
    "print(f'f1-score = {pred_f1_score}')\n",
    "print(f'Gini score = {pred_gini_score}')"
   ]
  },
  {
   "cell_type": "markdown",
   "id": "9f0de29e-30ff-41f1-abe0-b44e43d8fd37",
   "metadata": {},
   "source": [
    "NOTA: En este caso obtenemos un mejor desempeño en la etapa de entrenamiento del modelo; Sin embargo, al realizar la validación no obtenemos el resultado esperado. Esto nos hace pensar que los datos no poseen información relevante para la terea sugerida."
   ]
  },
  {
   "cell_type": "markdown",
   "id": "89719d07-1501-48d1-9082-1ed21b25a970",
   "metadata": {
    "jupyter": {
     "outputs_hidden": false
    },
    "pycharm": {
     "name": "#%%\n"
    }
   },
   "source": [
    "### Experimento 6:\n",
    "En este experimento validaremos la hipótesis de redundancia de información. Para esto usaremos un Random Forest Classifier entrenado y puesto a prueba con sólo una parte de los datos, específicamente aquellos tipo 'float64' (ya que tienen distribuciones más grandes de sus datos).\n",
    "El orden del trabajo será:\n",
    "- Extraer las características deseadas\n",
    "- Balancear el grupo de entrenamiento\n",
    "- Entrenar el modelo\n",
    "- Validar el modelo"
   ]
  },
  {
   "cell_type": "code",
   "execution_count": 91,
   "id": "8ca7a673-3dd9-4046-b1cc-bcfcfed87910",
   "metadata": {},
   "outputs": [
    {
     "name": "stdout",
     "output_type": "stream",
     "text": [
      "Selected features: 36\n",
      "Index(['v0', 'v1', 'v2', 'v3', 'v4', 'v5', 'v6', 'v7', 'v8', 'v9', 'v10',\n",
      "       'v11', 'v12', 'v13', 'v14', 'v15', 'v16', 'v17', 'v18', 'v19', 'v20',\n",
      "       'v21', 'v22', 'v23', 'v24', 'v25', 'v26', 'v27', 'v28', 'v29', 'v30',\n",
      "       'v31', 'v32', 'v34', 'v35', 'v36'],\n",
      "      dtype='object')\n",
      "Original training dataset dimension = (2189, 72)\n",
      "New training dataset dimension = (2189, 36)\n"
     ]
    }
   ],
   "source": [
    "# Extracción de las características (datos/features) a utlizar en el entrenamiento:\n",
    "\n",
    "# numeric_features = train.select_dtypes(include=['int64', 'float64']).columns\n",
    "selected_features = train_df.select_dtypes(include=['float64']).columns\n",
    "reduced_train_df = train_df[selected_features]\n",
    "\n",
    "print(f'Selected features: {selected_features.shape[0]}')\n",
    "print(selected_features)\n",
    "print(f'Original training dataset dimension = {train_df.shape}')\n",
    "print(f'New training dataset dimension = {reduced_train_df.shape}')\n"
   ]
  },
  {
   "cell_type": "code",
   "execution_count": 92,
   "id": "e00ee7da-2643-47ae-b770-8d4bfcc7c320",
   "metadata": {},
   "outputs": [
    {
     "data": {
      "text/plain": [
       "(548, 36)"
      ]
     },
     "execution_count": 92,
     "metadata": {},
     "output_type": "execute_result"
    }
   ],
   "source": [
    "# Extracción de las características (datos/features) en los datos de test:\n",
    "reduced_test_df = test_df[selected_features]\n",
    "reduced_test_df.shape"
   ]
  },
  {
   "cell_type": "markdown",
   "id": "6d57b5f4-2dd8-4280-af99-7bf616ce3957",
   "metadata": {},
   "source": [
    "**Balanceo de datos para el conjunto de entrenamiento con reducción de características:**"
   ]
  },
  {
   "cell_type": "code",
   "execution_count": 93,
   "id": "8c6bb7c6-9862-4c79-8214-88f538382aaf",
   "metadata": {},
   "outputs": [],
   "source": [
    "# Instanciamos el método SMOTE para realizar el sobre-muestreo:\n",
    "sm = SMOTE(random_state=40)"
   ]
  },
  {
   "cell_type": "code",
   "execution_count": 94,
   "id": "2e60385a-b065-4523-b13e-706e89f54c47",
   "metadata": {},
   "outputs": [],
   "source": [
    "# Sobre-muestreo del conjunto de entrenamiento:\n",
    "train_data_res, train_labels_res = sm.fit_resample(reduced_train_df.values, train_labels_df.values)"
   ]
  },
  {
   "cell_type": "code",
   "execution_count": 95,
   "id": "8e2f726c-dc1a-4e82-b32b-247ecddf7a6e",
   "metadata": {},
   "outputs": [
    {
     "data": {
      "text/plain": [
       "((3520, 36), (3520,))"
      ]
     },
     "execution_count": 95,
     "metadata": {},
     "output_type": "execute_result"
    }
   ],
   "source": [
    "# Variables organizadas como arreglos de numpy (ndarray):\n",
    "train_data_res.shape, train_labels_res.shape"
   ]
  },
  {
   "cell_type": "markdown",
   "id": "3a3686c3-1a6e-44ea-b3cc-18800cf27c8a",
   "metadata": {},
   "source": [
    "**Entrenamiento: Usamos los nuevos datos**"
   ]
  },
  {
   "cell_type": "code",
   "execution_count": 96,
   "id": "e790afe3-8548-4229-a403-886f2b9757b5",
   "metadata": {},
   "outputs": [],
   "source": [
    "rfc2 = RandomForestClassifier(n_estimators=100).fit(train_data_res, train_labels_res)"
   ]
  },
  {
   "cell_type": "markdown",
   "id": "2d54cba5-7715-4139-8ac7-23e13a7d58c2",
   "metadata": {},
   "source": [
    "Performance con los datos de entrenamiento:"
   ]
  },
  {
   "cell_type": "code",
   "execution_count": 97,
   "id": "0148abcd-2c28-41f2-9107-536e869c3821",
   "metadata": {},
   "outputs": [
    {
     "data": {
      "text/plain": [
       "(0.9878428046366978, 0.9755681818181818)"
      ]
     },
     "execution_count": 97,
     "metadata": {},
     "output_type": "execute_result"
    }
   ],
   "source": [
    "train_predicts = rfc2.predict(train_data_res)\n",
    "metrics.f1_score(train_labels_res, train_predicts), gini_normalized(train_labels_res, train_predicts)"
   ]
  },
  {
   "cell_type": "markdown",
   "id": "c5e14489-76e2-4028-953d-79ecb1680bb2",
   "metadata": {},
   "source": [
    "**Peso de las variables consideradas por el algoritmo de clasificación durante el entrenamiento:**"
   ]
  },
  {
   "cell_type": "code",
   "execution_count": 98,
   "id": "87163c7d-fef0-4df5-9b01-e666dffc1a65",
   "metadata": {},
   "outputs": [
    {
     "data": {
      "image/png": "[encoded data removed]",
      "text/plain": [
       "<Figure size 576x432 with 1 Axes>"
      ]
     },
     "metadata": {
      "needs_background": "light"
     },
     "output_type": "display_data"
    }
   ],
   "source": [
    "importance = rfc2.feature_importances_\n",
    "\n",
    "# Resumen de la importancia de las variables de entrenamiento:\n",
    "# for i,v in enumerate(importance):\n",
    "#     print('Feature: %0d, Score: %.5f' % (i,v))\n",
    "    \n",
    "# plot feature importance\n",
    "plt.figure(figsize=(8, 6))\n",
    "plt.bar([x for x in range(len(importance))], importance)\n",
    "plt.title('Features importance: Random Forest Classifier using reduced features and balanced data', fontsize=13)\n",
    "plt.ylabel(\"Score\", fontsize=14)\n",
    "plt.xlabel(\"Features\", fontsize=14)\n",
    "plt.show()"
   ]
  },
  {
   "cell_type": "markdown",
   "id": "4d343a31-5106-46b5-b74d-3fe2cef6fabe",
   "metadata": {},
   "source": [
    "**Validación:**"
   ]
  },
  {
   "cell_type": "code",
   "execution_count": 99,
   "id": "cb1d4553-2214-4ff7-9c3b-e53fcd964ed1",
   "metadata": {},
   "outputs": [],
   "source": [
    "# Predicciones usando el modelo entrenado:\n",
    "rfc2_predictions = rfc2.predict(reduced_test_df.values)"
   ]
  },
  {
   "cell_type": "code",
   "execution_count": 100,
   "id": "3eaa9edc-74bb-45bc-ba23-8c01222a7243",
   "metadata": {},
   "outputs": [
    {
     "name": "stdout",
     "output_type": "stream",
     "text": [
      "Random Forest Classifier (using reduced data) for validation stage:\n",
      "f1-score = 0.8230088495575221\n",
      "Gini score = 0.8042929292929295\n"
     ]
    }
   ],
   "source": [
    "pred_f1_score = metrics.f1_score(test_labels_df.values, rfc2_predictions)\n",
    "pred_gini_score = gini_normalized(test_labels_df.values, rfc2_predictions)\n",
    "\n",
    "print('Random Forest Classifier (using reduced data) for validation stage:')\n",
    "print(f'f1-score = {pred_f1_score}')\n",
    "print(f'Gini score = {pred_gini_score}')"
   ]
  },
  {
   "cell_type": "markdown",
   "id": "c7fbb40f-89b2-4bae-8dac-17eabc4e08c4",
   "metadata": {},
   "source": [
    "**Análisis por matríz de confusión:**"
   ]
  },
  {
   "cell_type": "code",
   "execution_count": 101,
   "id": "529091fa-baf0-4120-904e-32e77a3496f5",
   "metadata": {},
   "outputs": [
    {
     "name": "stdout",
     "output_type": "stream",
     "text": [
      "Confusion matrix:\n"
     ]
    },
    {
     "data": {
      "text/plain": [
       "array([[415,  25],\n",
       "       [ 15,  93]])"
      ]
     },
     "execution_count": 101,
     "metadata": {},
     "output_type": "execute_result"
    }
   ],
   "source": [
    "print('Confusion matrix:')\n",
    "metrics.confusion_matrix(test_labels_df.values, rfc2_predictions)"
   ]
  },
  {
   "cell_type": "code",
   "execution_count": 102,
   "id": "82ae1e0e-89c6-4235-9e34-7f900dec18a8",
   "metadata": {},
   "outputs": [
    {
     "name": "stdout",
     "output_type": "stream",
     "text": [
      "Classification report : \n",
      "               precision    recall  f1-score   support\n",
      "\n",
      "         0.0       0.97      0.94      0.95       440\n",
      "         1.0       0.79      0.86      0.82       108\n",
      "\n",
      "    accuracy                           0.93       548\n",
      "   macro avg       0.88      0.90      0.89       548\n",
      "weighted avg       0.93      0.93      0.93       548\n",
      "\n"
     ]
    }
   ],
   "source": [
    "clf_report = metrics.classification_report(test_labels_df.values, rfc2_predictions)\n",
    "print('Classification report : \\n', clf_report)"
   ]
  },
  {
   "cell_type": "code",
   "execution_count": 103,
   "id": "99baf128-b031-4ebf-a65c-284ed8e2dccf",
   "metadata": {},
   "outputs": [
    {
     "data": {
      "image/png": "[encoded data removed]",
      "text/plain": [
       "<Figure size 432x288 with 2 Axes>"
      ]
     },
     "metadata": {
      "needs_background": "light"
     },
     "output_type": "display_data"
    }
   ],
   "source": [
    "metrics.plot_confusion_matrix(rfc2, reduced_test_df.values, rfc2_predictions)\n",
    "plt.show()"
   ]
  },
  {
   "cell_type": "markdown",
   "id": "7bfaa314-d14f-4767-ba44-1f6907f7e563",
   "metadata": {},
   "source": [
    "### Procedimiento propio diseñado para balanceo del conjunto de entrenamiento:\n",
    "Sobre-muestreo de la clase minoritaria en el conjunto de entrenamiento con el fin de balancear los datos. Posteriormente, clasificación usando áboles de decisión aleatorios (Random Forest Classifier)."
   ]
  },
  {
   "cell_type": "code",
   "execution_count": 104,
   "id": "984633c0-7a61-46b9-971e-aaf25ca90edb",
   "metadata": {},
   "outputs": [
    {
     "name": "stdout",
     "output_type": "stream",
     "text": [
      "Big class amount: 0 --> 1760\n",
      "Minor class amount: 1 --> 429\n",
      "Dimension of the new trainning data set = (3520, 72)\n",
      "Dimension of the new training labels array = (3520,)\n"
     ]
    }
   ],
   "source": [
    "# Paso 1: División de las clases\n",
    "big_class_df = train_df[train_labels_df['train_labels'] == 0] # class = 0\n",
    "minor_class_df = train_df[train_labels_df['train_labels'] == 1] # class = 1\n",
    "\n",
    "print(f'Big class amount: 0 --> {big_class_df.shape[0]}')\n",
    "print(f'Minor class amount: 1 --> {minor_class_df.shape[0]}')\n",
    "\n",
    "# Paso 2: Sobre-muestreo de la clase minoritaria:\n",
    "minor_class_upsampled_df = resample(minor_class_df, replace=True, n_samples=1760, random_state=6)\n",
    "\n",
    "# Paso 3: Combinando los datos sobre-muestreados con la clase majoritaria inicial:\n",
    "new_train_df = pd.concat([big_class_df, minor_class_upsampled_df])\n",
    "new_train_df = new_train_df.reset_index(drop=True)\n",
    "print(f'Dimension of the new trainning data set = {new_train_df.shape}')\n",
    "\n",
    "# Paso 4: Construir nuevo arreglo de etiquetas para entrenamiento\n",
    "cl_0 = np.zeros(1760).transpose()\n",
    "cl_1 = np.ones(1760).transpose()\n",
    "new_train_labels = np.concatenate((cl_0, cl_1), axis=0)\n",
    "\n",
    "print(f'Dimension of the new training labels array = {new_train_labels.shape}')"
   ]
  }
 ],
 "metadata": {
  "kernelspec": {
   "display_name": "Python 3 (ipykernel)",
   "language": "python",
   "name": "python3"
  },
  "language_info": {
   "codemirror_mode": {
    "name": "ipython",
    "version": 3
   },
   "file_extension": ".py",
   "mimetype": "text/x-python",
   "name": "python",
   "nbconvert_exporter": "python",
   "pygments_lexer": "ipython3",
   "version": "3.9.7"
  }
 },
 "nbformat": 4,
 "nbformat_minor": 5
}
